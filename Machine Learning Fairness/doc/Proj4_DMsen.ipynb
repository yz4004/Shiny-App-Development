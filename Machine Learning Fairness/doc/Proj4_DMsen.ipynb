{
  "nbformat": 4,
  "nbformat_minor": 0,
  "metadata": {
    "colab": {
      "name": "Proj4-Pratice Implementing A4.ipynb",
      "provenance": [],
      "collapsed_sections": []
    },
    "kernelspec": {
      "name": "python3",
      "display_name": "Python 3"
    },
    "language_info": {
      "name": "python"
    }
  },
  "cells": [
    {
      "cell_type": "markdown",
      "source": [
        "## Implementation of $DM_{sen}$ Algorithm\n",
        "\n",
        "Only focusing on reducing difference of false positive rate or false negative rates beween sensitive categories."
      ],
      "metadata": {
        "id": "RobVYgaSpzyR"
      }
    },
    {
      "cell_type": "markdown",
      "metadata": {
        "id": "bAETrus5Vgzb"
      },
      "source": [
        "Try implementing A4 12/4"
      ]
    },
    {
      "cell_type": "code",
      "metadata": {
        "colab": {
          "base_uri": "https://localhost:8080/"
        },
        "id": "9IEyrzV2Yvjs",
        "outputId": "e1e9a2c7-9671-48d1-a68d-3032e97b9c59"
      },
      "source": [
        "import pandas as pd\n",
        "import numpy as np\n",
        "import random\n",
        "\n",
        "import tensorflow as tf\n",
        "import keras\n",
        "from sklearn.model_selection import train_test_split\n",
        "\n",
        "from keras.layers import Dense, Input\n",
        "from tensorflow.keras import Model\n",
        "\n",
        "from sklearn.metrics import classification_report, confusion_matrix\n",
        "\n",
        "raw = pd.read_csv(\"./compas-scores-two-years.csv\")\n",
        "\n",
        "## 0. 选取 feature\n",
        "name_list1 = [ 'sex','age', 'race', 'priors_count',\n",
        "             'c_charge_degree', 'c_charge_desc',\n",
        "             'start', 'end', 'event', 'two_year_recid'] # 11\n",
        "\n",
        "\n",
        "raw_data = raw.loc[:,name_list1]\n",
        "\n",
        "#print(raw_data.shape) \n",
        "\n",
        "# dropna 7214 -> 7185\n",
        "raw_data = raw_data[raw_data[[ 'sex','age', 'race', 'priors_count','c_charge_degree', 'c_charge_desc',\n",
        "             'start', 'end', 'event', 'two_year_recid']].notna()]\n",
        "print(\"dataset size after dropping NAs: \", raw_data.shape)\n",
        "\n",
        "########################################\n",
        "########################################\n",
        "print('\\n',\"#\"*100, '\\n', ' '*30, \" Data Preprocessing \",'\\n',\"#\"*100, '\\n')\n",
        "\n",
        "\n",
        "## only include African-American and Caucasians data\n",
        "African_American_index = raw_data.race == 'African-American'\n",
        "Caucasian_index = raw_data.race == 'Caucasian'\n",
        "\n",
        "AA = raw_data[African_American_index]\n",
        "CA = raw_data[Caucasian_index]\n",
        "\n",
        "raw_data = pd.concat( (AA, CA) )\n",
        "\n",
        "print(\"number of white ppl: \",raw_data[Caucasian_index].shape[0], \", number of black ppl: \", raw_data[African_American_index].shape[0])\n",
        "\n",
        "# extracting labels as train_labels\n",
        "label = raw_data.two_year_recid\n",
        "del raw_data[\"two_year_recid\"]  \n",
        "\n",
        "# standardize numerical values \n",
        "numeric_features = raw_data.dtypes[raw_data.dtypes != 'object'].index\n",
        "raw_data[numeric_features] = raw_data[numeric_features].apply(lambda x: (x - x.mean()) / (x.std()))\n",
        "\n",
        "#turn binary categorical features into 0,1 \n",
        "cleanups = {\"race\": {\"African-American\": 0, \"Caucasian\": 1},\n",
        "            \"sex\": {\"Male\": 0, \"Female\": 1 },\n",
        "            \"c_charge_degree\": {\"F\": 0, \"M\": 1}}\n",
        "\n",
        "raw_data = raw_data.replace(cleanups)\n",
        "\n",
        "#multivariate categorical values into dummies\n",
        "raw_data = pd.get_dummies(raw_data, dummy_na=True) \n",
        "cleaned_data = raw_data.astype('float32')\n",
        "\n",
        "## place sensitive features at last\n",
        "reorder_column_name = list(cleaned_data.keys())\n",
        "race_colname = reorder_column_name.pop(2)\n",
        "reorder_column_name.append(race_colname)\n",
        "print(\"new colnames: \",reorder_column_name)\n",
        "cleaned_data = cleaned_data[reorder_column_name]\n",
        "\n",
        "## look at the last two columns\n",
        "print(\"Cleaned Dataset\")\n",
        "print(cleaned_data.iloc[:,:])\n"
      ],
      "execution_count": null,
      "outputs": [
        {
          "output_type": "stream",
          "name": "stdout",
          "text": [
            "dataset size after dropping NAs:  (7214, 10)\n",
            "\n",
            " #################################################################################################### \n",
            "                                 Data Preprocessing  \n",
            " #################################################################################################### \n",
            "\n",
            "number of white ppl:  2454 , number of black ppl:  3696\n",
            "new colnames:  ['sex', 'age', 'priors_count', 'c_charge_degree', 'start', 'end', 'event', 'c_charge_desc_Abuse Without Great Harm', 'c_charge_desc_Accessory After the Fact', 'c_charge_desc_Agg Assault W/int Com Fel Dome', 'c_charge_desc_Agg Battery Grt/Bod/Harm', 'c_charge_desc_Agg Fleeing and Eluding', 'c_charge_desc_Agg Fleeing/Eluding High Speed', 'c_charge_desc_Aggrav Battery w/Deadly Weapon', 'c_charge_desc_Aggrav Child Abuse-Agg Battery', 'c_charge_desc_Aggrav Child Abuse-Causes Harm', 'c_charge_desc_Aggrav Stalking After Injunctn', 'c_charge_desc_Aggravated Assault', 'c_charge_desc_Aggravated Assault W/Dead Weap', 'c_charge_desc_Aggravated Assault W/dead Weap', 'c_charge_desc_Aggravated Assault W/o Firearm', 'c_charge_desc_Aggravated Assault w/Firearm', 'c_charge_desc_Aggravated Battery', 'c_charge_desc_Aggravated Battery (Firearm)', 'c_charge_desc_Aggravated Battery (Firearm/Actual Possession)', 'c_charge_desc_Aggravated Battery / Pregnant', 'c_charge_desc_Aggravated Battery On 65/Older', 'c_charge_desc_Aggress/Panhandle/Beg/Solict', 'c_charge_desc_Aide/Abet Prostitution Lewdness', 'c_charge_desc_Aiding Escape', 'c_charge_desc_Alcoholic Beverage Violation-FL', 'c_charge_desc_Arson II (Vehicle)', 'c_charge_desc_Arson in the First Degree', 'c_charge_desc_Assault', 'c_charge_desc_Assault Law Enforcement Officer', 'c_charge_desc_Att Burgl Conv Occp', 'c_charge_desc_Att Burgl Struc/Conv Dwel/Occp', 'c_charge_desc_Att Burgl Unoccupied Dwel', 'c_charge_desc_Att Tamper w/Physical Evidence', 'c_charge_desc_Attempt Armed Burglary Dwell', 'c_charge_desc_Attempt Burglary (Struct)', 'c_charge_desc_Attempted Burg/Convey/Unocc', 'c_charge_desc_Attempted Burg/struct/unocc', 'c_charge_desc_Attempted Deliv Control Subst', 'c_charge_desc_Attempted Robbery  No Weapon', 'c_charge_desc_Attempted Robbery  Weapon', 'c_charge_desc_Attempted Robbery Firearm', 'c_charge_desc_Battery', 'c_charge_desc_Battery Emergency Care Provide', 'c_charge_desc_Battery On A Person Over 65', 'c_charge_desc_Battery On Fire Fighter', 'c_charge_desc_Battery On Parking Enfor Speci', 'c_charge_desc_Battery Spouse Or Girlfriend', 'c_charge_desc_Battery on Law Enforc Officer', 'c_charge_desc_Battery on a Person Over 65', 'c_charge_desc_Bribery Athletic Contests', 'c_charge_desc_Burgl Dwel/Struct/Convey Armed', 'c_charge_desc_Burglary Assault/Battery Armed', 'c_charge_desc_Burglary Conveyance Armed', 'c_charge_desc_Burglary Conveyance Assault/Bat', 'c_charge_desc_Burglary Conveyance Occupied', 'c_charge_desc_Burglary Conveyance Unoccup', 'c_charge_desc_Burglary Dwelling Armed', 'c_charge_desc_Burglary Dwelling Assault/Batt', 'c_charge_desc_Burglary Dwelling Occupied', 'c_charge_desc_Burglary Structure Assault/Batt', 'c_charge_desc_Burglary Structure Occupied', 'c_charge_desc_Burglary Structure Unoccup', 'c_charge_desc_Burglary Unoccupied Dwelling', 'c_charge_desc_Burglary With Assault/battery', 'c_charge_desc_Carjacking w/o Deadly Weapon', 'c_charge_desc_Carjacking with a Firearm', 'c_charge_desc_Carry Open/Uncov Bev In Pub', 'c_charge_desc_Carrying A Concealed Weapon', 'c_charge_desc_Carrying Concealed Firearm', 'c_charge_desc_Cash Item w/Intent to Defraud', 'c_charge_desc_Cause Anoth Phone Ring Repeat', 'c_charge_desc_Child Abuse', 'c_charge_desc_Compulsory Attendance Violation', 'c_charge_desc_Compulsory Sch Attnd Violation', 'c_charge_desc_Computer Pornography', 'c_charge_desc_Consp Traff Oxycodone  4g><14g', 'c_charge_desc_Consp Traff Oxycodone 28g><30k', 'c_charge_desc_Consume Alcoholic Bev Pub', 'c_charge_desc_Contradict Statement', 'c_charge_desc_Contribute Delinquency Of A Minor', 'c_charge_desc_Corrupt Public Servant', 'c_charge_desc_Counterfeit Lic Plates/Sticker', 'c_charge_desc_Crim Attempt/Solic/Consp', 'c_charge_desc_Crim Attempt/Solicit/Consp', 'c_charge_desc_Crim Use Of Personal Id Info', 'c_charge_desc_Crim Use of Personal ID Info', 'c_charge_desc_Crimin Mischief Damage $1000+', 'c_charge_desc_Criminal Attempt 3rd Deg Felon', 'c_charge_desc_Criminal Mischief', 'c_charge_desc_Criminal Mischief Damage <$200', 'c_charge_desc_Criminal Mischief>$200<$1000', 'c_charge_desc_Crlty Twrd Child Urge Oth Act', 'c_charge_desc_Cruelty Toward Child', 'c_charge_desc_Cruelty to Animals', 'c_charge_desc_Culpable Negligence', 'c_charge_desc_D.U.I. Serious Bodily Injury', 'c_charge_desc_DOC/Cause Public Danger', 'c_charge_desc_DUI - Enhanced', 'c_charge_desc_DUI - Property Damage/Personal Injury', 'c_charge_desc_DUI Blood Alcohol Above 0.20', 'c_charge_desc_DUI Level 0.15 Or Minor In Veh', 'c_charge_desc_DUI Property Damage/Injury', 'c_charge_desc_DUI- Enhanced', 'c_charge_desc_DUI/Property Damage/Persnl Inj', 'c_charge_desc_DWI w/Inj Susp Lic / Habit Off', 'c_charge_desc_DWLS Canceled Disqul 1st Off', 'c_charge_desc_DWLS Susp/Cancel Revoked', 'c_charge_desc_Dealing In Stolen Property', 'c_charge_desc_Dealing in Stolen Property', 'c_charge_desc_Defrauding Innkeeper', 'c_charge_desc_Defrauding Innkeeper $300/More', 'c_charge_desc_Del 3,4 Methylenedioxymethcath', 'c_charge_desc_Del Cannabis At/Near Park', 'c_charge_desc_Del Cannabis For Consideration', 'c_charge_desc_Del Morphine at/near Park', 'c_charge_desc_Del of JWH-250 2-Methox 1-Pentyl', 'c_charge_desc_Deliver 3,4 Methylenediox', 'c_charge_desc_Deliver Alprazolam', 'c_charge_desc_Deliver Cannabis', 'c_charge_desc_Deliver Cannabis 1000FTSch', 'c_charge_desc_Deliver Cocaine', 'c_charge_desc_Deliver Cocaine 1000FT Church', 'c_charge_desc_Deliver Cocaine 1000FT Park', 'c_charge_desc_Deliver Cocaine 1000FT School', 'c_charge_desc_Deliver Cocaine 1000FT Store', 'c_charge_desc_Delivery of Heroin', 'c_charge_desc_Depriv LEO of Protect/Communic', 'c_charge_desc_Discharge Firearm From Vehicle', 'c_charge_desc_Disorderly Conduct', 'c_charge_desc_Disorderly Intoxication', 'c_charge_desc_Disrupting School Function', 'c_charge_desc_Drivg While Lic Suspd/Revk/Can', 'c_charge_desc_Driving License Suspended', 'c_charge_desc_Driving Under The Influence', 'c_charge_desc_Driving While License Revoked', 'c_charge_desc_Escape', 'c_charge_desc_Exhibition Weapon School Prop', 'c_charge_desc_Expired DL More Than 6 Months', 'c_charge_desc_Exploit Elderly Person 20-100K', 'c_charge_desc_Exposes Culpable Negligence', 'c_charge_desc_Extradition/Defendants', 'c_charge_desc_Fabricating Physical Evidence', 'c_charge_desc_Fail Obey Driv Lic Restrictions', 'c_charge_desc_Fail Register Career Offender', 'c_charge_desc_Fail Register Vehicle', 'c_charge_desc_Fail Sex Offend Report Bylaw', 'c_charge_desc_Fail To Obey Police Officer', 'c_charge_desc_Fail To Redeliv Hire/Leas Prop', 'c_charge_desc_Fail To Redeliver Hire Prop', 'c_charge_desc_Fail To Secure Load', 'c_charge_desc_Failure To Pay Taxi Cab Charge', 'c_charge_desc_Failure To Return Hired Vehicle', 'c_charge_desc_False 911 Call', 'c_charge_desc_False Imprisonment', 'c_charge_desc_False Info LEO During Invest', 'c_charge_desc_False Motor Veh Insurance Card', 'c_charge_desc_False Name By Person Arrest', 'c_charge_desc_False Ownership Info/Pawn Item', 'c_charge_desc_Falsely Impersonating Officer', 'c_charge_desc_Fel Drive License Perm Revoke', 'c_charge_desc_Felon in Pos of Firearm or Amm', 'c_charge_desc_Felony Batt(Great Bodily Harm)', 'c_charge_desc_Felony Battery', 'c_charge_desc_Felony Battery (Dom Strang)', 'c_charge_desc_Felony Battery w/Prior Convict', 'c_charge_desc_Felony Committing Prostitution', 'c_charge_desc_Felony DUI (level 3)', 'c_charge_desc_Felony DUI - Enhanced', 'c_charge_desc_Felony Driving While Lic Suspd', 'c_charge_desc_Felony Petit Theft', 'c_charge_desc_Felony/Driving Under Influence', 'c_charge_desc_Fighting/Baiting Animals', 'c_charge_desc_Flee/Elude LEO-Agg Flee Unsafe', 'c_charge_desc_Fleeing Or Attmp Eluding A Leo', 'c_charge_desc_Fleeing or Eluding a LEO', 'c_charge_desc_Forging Bank Bills/Promis Note', 'c_charge_desc_Fraud Obtain Food or Lodging', 'c_charge_desc_Fraudulent Use of Credit Card', 'c_charge_desc_Gambling/Gamb Paraphernalia', 'c_charge_desc_Giving False Crime Report', 'c_charge_desc_Grand Theft (Motor Vehicle)', 'c_charge_desc_Grand Theft Dwell Property', 'c_charge_desc_Grand Theft Firearm', 'c_charge_desc_Grand Theft In The 3Rd Degree', 'c_charge_desc_Grand Theft in the 1st Degree', 'c_charge_desc_Grand Theft in the 3rd Degree', 'c_charge_desc_Grand Theft of the 2nd Degree', 'c_charge_desc_Grand Theft on 65 Yr or Older', 'c_charge_desc_Harm Public Servant Or Family', 'c_charge_desc_Hiring with Intent to Defraud', 'c_charge_desc_Imperson Public Officer or Emplyee', 'c_charge_desc_Insurance Fraud', 'c_charge_desc_Interfere W/Traf Cont Dev RR', 'c_charge_desc_Interference with Custody', 'c_charge_desc_Intoxicated/Safety Of Another', 'c_charge_desc_Introduce Contraband Into Jail', 'c_charge_desc_Issuing a Worthless Draft', 'c_charge_desc_Kidnapping / Domestic Violence', 'c_charge_desc_Lease For Purpose Trafficking', 'c_charge_desc_Leave Acc/Attend Veh/More $50', 'c_charge_desc_Leave Accd/Attend Veh/Less $50', 'c_charge_desc_Leaving Acc/Unattended Veh', 'c_charge_desc_Leaving the Scene of Accident', 'c_charge_desc_Lewd Act Presence Child 16-', 'c_charge_desc_Lewd or Lascivious Molestation', 'c_charge_desc_Lewd/Lasc Battery Pers 12+/<16', 'c_charge_desc_Lewd/Lasc Exhib Presence <16yr', 'c_charge_desc_Lewdness Violation', 'c_charge_desc_Littering', 'c_charge_desc_Live on Earnings of Prostitute', 'c_charge_desc_Lve/Scen/Acc/Veh/Prop/Damage', 'c_charge_desc_Manage Busn W/O City Occup Lic', 'c_charge_desc_Manslaughter W/Weapon/Firearm', 'c_charge_desc_Manufacture Cannabis', 'c_charge_desc_Misuse Of 911 Or E911 System', 'c_charge_desc_Money Launder 100K or More Dols', 'c_charge_desc_Murder In 2nd Degree W/firearm', 'c_charge_desc_Murder in 2nd Degree', 'c_charge_desc_Murder in the First Degree', 'c_charge_desc_Neglect Child / Bodily Harm', 'c_charge_desc_Neglect Child / No Bodily Harm', 'c_charge_desc_Neglect/Abuse Elderly Person', 'c_charge_desc_Obstruct Fire Equipment', 'c_charge_desc_Obstruct Officer W/Violence', 'c_charge_desc_Obtain Control Substance By Fraud', 'c_charge_desc_Offer Agree Secure For Lewd Act', 'c_charge_desc_Offer Agree Secure/Lewd Act', 'c_charge_desc_Offn Against Intellectual Prop', 'c_charge_desc_Open Carrying Of Weapon', 'c_charge_desc_Oper Motorcycle W/O Valid DL', 'c_charge_desc_Operating W/O Valid License', 'c_charge_desc_Opert With Susp DL 2ND Offense', 'c_charge_desc_Opert With Susp DL 2nd Offens', 'c_charge_desc_PL/Unlaw Use Credit Card', 'c_charge_desc_Petit Theft', 'c_charge_desc_Petit Theft $100- $300', 'c_charge_desc_Pos Cannabis W/Intent Sel/Del', 'c_charge_desc_Pos Methylenedioxymethcath W/I/D/S', 'c_charge_desc_Poss 3,4 MDMA (Ecstasy)', 'c_charge_desc_Poss Alprazolam W/int Sell/Del', 'c_charge_desc_Poss Anti-Shoplifting Device', 'c_charge_desc_Poss Cntrft Contr Sub w/Intent', 'c_charge_desc_Poss Cocaine/Intent To Del/Sel', 'c_charge_desc_Poss Contr Subst W/o Prescript', 'c_charge_desc_Poss Counterfeit Payment Inst', 'c_charge_desc_Poss Drugs W/O A Prescription', 'c_charge_desc_Poss F/Arm Delinq', 'c_charge_desc_Poss Firearm W/Altered ID#', 'c_charge_desc_Poss Meth/Diox/Meth/Amp (MDMA)', 'c_charge_desc_Poss Of 1,4-Butanediol', 'c_charge_desc_Poss Of Controlled Substance', 'c_charge_desc_Poss Of RX Without RX', 'c_charge_desc_Poss Oxycodone W/Int/Sell/Del', 'c_charge_desc_Poss Pyrrolidinobutiophenone', 'c_charge_desc_Poss Pyrrolidinovalerophenone', 'c_charge_desc_Poss Pyrrolidinovalerophenone W/I/D/S', 'c_charge_desc_Poss Similitude of Drivers Lic', 'c_charge_desc_Poss Tetrahydrocannabinols', 'c_charge_desc_Poss Trifluoromethylphenylpipe', 'c_charge_desc_Poss Unlaw Issue Driver Licenc', 'c_charge_desc_Poss Unlaw Issue Id', 'c_charge_desc_Poss Wep Conv Felon', 'c_charge_desc_Poss of Cocaine W/I/D/S 1000FT Park', 'c_charge_desc_Poss of Firearm by Convic Felo', 'c_charge_desc_Poss of Methylethcathinone', 'c_charge_desc_Poss of Vessel w/Altered ID NO', 'c_charge_desc_Poss/Sell/Del Cocaine 1000FT Sch', 'c_charge_desc_Poss/Sell/Del/Man Amobarbital', 'c_charge_desc_Poss/Sell/Deliver Clonazepam', 'c_charge_desc_Poss/pur/sell/deliver Cocaine', 'c_charge_desc_Poss3,4 Methylenedioxymethcath', 'c_charge_desc_Posses/Disply Susp/Revk/Frd DL', 'c_charge_desc_Possess Cannabis 1000FTSch', 'c_charge_desc_Possess Cannabis/20 Grams Or Less', 'c_charge_desc_Possess Controlled Substance', 'c_charge_desc_Possess Countrfeit Credit Card', 'c_charge_desc_Possess Drug Paraphernalia', 'c_charge_desc_Possess Mot Veh W/Alt Vin #', 'c_charge_desc_Possess Tobacco Product Under 18', 'c_charge_desc_Possess Weapon On School Prop', 'c_charge_desc_Possess w/I/Utter Forged Bills', 'c_charge_desc_Possess/Use Weapon 1 Deg Felon', 'c_charge_desc_Possession Burglary Tools', 'c_charge_desc_Possession Child Pornography', 'c_charge_desc_Possession Firearm School Prop', 'c_charge_desc_Possession Of 3,4Methylenediox', 'c_charge_desc_Possession Of Alprazolam', 'c_charge_desc_Possession Of Amphetamine', 'c_charge_desc_Possession Of Anabolic Steroid', 'c_charge_desc_Possession Of Buprenorphine', 'c_charge_desc_Possession Of Carisoprodol', 'c_charge_desc_Possession Of Clonazepam', 'c_charge_desc_Possession Of Cocaine', 'c_charge_desc_Possession Of Fentanyl', 'c_charge_desc_Possession Of Heroin', 'c_charge_desc_Possession Of Lorazepam', 'c_charge_desc_Possession Of Methamphetamine', 'c_charge_desc_Possession Of Paraphernalia', 'c_charge_desc_Possession Of Phentermine', 'c_charge_desc_Possession of Alcohol Under 21', 'c_charge_desc_Possession of Benzylpiperazine', 'c_charge_desc_Possession of Butylone', 'c_charge_desc_Possession of Cannabis', 'c_charge_desc_Possession of Cocaine', 'c_charge_desc_Possession of Codeine', 'c_charge_desc_Possession of Ethylone', 'c_charge_desc_Possession of Hydrocodone', 'c_charge_desc_Possession of Hydromorphone', 'c_charge_desc_Possession of LSD', 'c_charge_desc_Possession of Methadone', 'c_charge_desc_Possession of Morphine', 'c_charge_desc_Possession of Oxycodone', 'c_charge_desc_Possession of XLR11', 'c_charge_desc_Present Proof of Invalid Insur', 'c_charge_desc_Principal In The First Degree', 'c_charge_desc_Prostitution', 'c_charge_desc_Prostitution/Lewd Act Assignation', 'c_charge_desc_Prostitution/Lewdness/Assign', 'c_charge_desc_Prowling/Loitering', 'c_charge_desc_Purchase Cannabis', 'c_charge_desc_Purchase/P/W/Int Cannabis', 'c_charge_desc_Purchasing Of Alprazolam', 'c_charge_desc_Reckless Driving', 'c_charge_desc_Refuse Submit Blood/Breath Test', 'c_charge_desc_Refuse to Supply DNA Sample', 'c_charge_desc_Resist Officer w/Violence', 'c_charge_desc_Resist/Obstruct W/O Violence', 'c_charge_desc_Restraining Order Dating Viol', 'c_charge_desc_Retail Theft $300 1st Offense', 'c_charge_desc_Retail Theft $300 2nd Offense', 'c_charge_desc_Ride Tri-Rail Without Paying', 'c_charge_desc_Robbery / No Weapon', 'c_charge_desc_Robbery / Weapon', 'c_charge_desc_Robbery Sudd Snatch No Weapon', 'c_charge_desc_Robbery W/Deadly Weapon', 'c_charge_desc_Robbery W/Firearm', 'c_charge_desc_Sale/Del Cannabis At/Near Scho', 'c_charge_desc_Sale/Del Counterfeit Cont Subs', 'c_charge_desc_Sel Etc/Pos/w/Int Contrft Schd', 'c_charge_desc_Sell Cannabis', 'c_charge_desc_Sell Conterfeit Cont Substance', 'c_charge_desc_Sell or Offer for Sale Counterfeit Goods', 'c_charge_desc_Sell/Man/Del Pos/w/int Heroin', 'c_charge_desc_Sex Batt Faml/Cust Vict 12-17Y', 'c_charge_desc_Sex Offender Fail Comply W/Law', 'c_charge_desc_Sexual Battery / Vict 12 Yrs +', 'c_charge_desc_Sexual Performance by a Child', 'c_charge_desc_Shoot In Occupied Dwell', 'c_charge_desc_Shoot Into Vehicle', 'c_charge_desc_Simulation of Legal Process', 'c_charge_desc_Solicit Deliver Cocaine', 'c_charge_desc_Solicit Purchase Cocaine', 'c_charge_desc_Solicit To Deliver Cocaine', 'c_charge_desc_Solicitation On Felony 3 Deg', 'c_charge_desc_Soliciting For Prostitution', 'c_charge_desc_Sound Articles Over 100', 'c_charge_desc_Stalking (Aggravated)', 'c_charge_desc_Strong Armed  Robbery', 'c_charge_desc_Susp Drivers Lic 1st Offense', 'c_charge_desc_Tamper With Victim', 'c_charge_desc_Tamper With Witness', 'c_charge_desc_Tamper With Witness/Victim/CI', 'c_charge_desc_Tampering With Physical Evidence', 'c_charge_desc_Tampering with a Victim', 'c_charge_desc_Theft', 'c_charge_desc_Theft/To Deprive', 'c_charge_desc_Threat Public Servant', 'c_charge_desc_Throw Deadly Missile Into Veh', 'c_charge_desc_Traffic Counterfeit Cred Cards', 'c_charge_desc_Traffick Amphetamine 28g><200g', 'c_charge_desc_Traffick Hydrocodone   4g><14g', 'c_charge_desc_Traffick Oxycodone     4g><14g', 'c_charge_desc_Trans/Harm/Material to a Minor', 'c_charge_desc_Trespass On School Grounds', 'c_charge_desc_Trespass Other Struct/Conve', 'c_charge_desc_Trespass Private Property', 'c_charge_desc_Trespass Struct/Convey Occupy', 'c_charge_desc_Trespass Struct/Conveyance', 'c_charge_desc_Trespass Structure w/Dang Weap', 'c_charge_desc_Trespass Structure/Conveyance', 'c_charge_desc_Trespassing/Construction Site', 'c_charge_desc_Tresspass Struct/Conveyance', 'c_charge_desc_Tresspass in Structure or Conveyance', 'c_charge_desc_Unauth C/P/S Sounds>1000/Audio', 'c_charge_desc_Unauth Poss ID Card or DL', 'c_charge_desc_Unauthorized Interf w/Railroad', 'c_charge_desc_Unemployment Compensatn Fraud', 'c_charge_desc_Unl/Disturb Education/Instui', 'c_charge_desc_Unlaw Lic Use/Disply Of Others', 'c_charge_desc_Unlaw LicTag/Sticker Attach', 'c_charge_desc_Unlaw Use False Name/Identity', 'c_charge_desc_Unlawful Conveyance of Fuel', 'c_charge_desc_Unlawful Use Of Police Badges', 'c_charge_desc_Unlicensed Telemarketing', 'c_charge_desc_Use Computer for Child Exploit', 'c_charge_desc_Use Of 2 Way Device To Fac Fel', 'c_charge_desc_Use Scanning Device to Defraud', 'c_charge_desc_Use of Anti-Shoplifting Device', 'c_charge_desc_Uttering Forged Bills', 'c_charge_desc_Uttering Forged Credit Card', 'c_charge_desc_Uttering a Forged Instrument', 'c_charge_desc_Video Voyeur-<24Y on Child >16', 'c_charge_desc_Viol Injunct Domestic Violence', 'c_charge_desc_Viol Injunction Protect Dom Vi', 'c_charge_desc_Viol Pretrial Release Dom Viol', 'c_charge_desc_Viol Prot Injunc Repeat Viol', 'c_charge_desc_Violation License Restrictions', 'c_charge_desc_Violation Of Boater Safety Id', 'c_charge_desc_Violation of Injunction Order/Stalking/Cyberstalking', 'c_charge_desc_Voyeurism', 'c_charge_desc_arrest case no charge', 'c_charge_desc_nan', 'race']\n",
            "Cleaned Dataset\n",
            "      sex       age  ...  c_charge_desc_nan  race\n",
            "1     0.0 -0.061329  ...                0.0   0.0\n",
            "2     0.0 -0.901165  ...                0.0   0.0\n",
            "3     0.0 -0.985149  ...                0.0   0.0\n",
            "11    0.0 -0.985149  ...                0.0   0.0\n",
            "13    0.0  0.526557  ...                0.0   0.0\n",
            "...   ...       ...  ...                ...   ...\n",
            "7192  0.0 -0.229296  ...                0.0   1.0\n",
            "7194  1.0 -0.397263  ...                0.0   1.0\n",
            "7199  0.0 -0.985149  ...                0.0   1.0\n",
            "7205  0.0 -0.985149  ...                0.0   1.0\n",
            "7206  0.0 -1.153116  ...                0.0   1.0\n",
            "\n",
            "[6150 rows x 419 columns]\n"
          ]
        },
        {
          "output_type": "stream",
          "name": "stderr",
          "text": [
            "/usr/local/lib/python3.7/dist-packages/ipykernel_launcher.py:45: UserWarning: Boolean Series key will be reindexed to match DataFrame index.\n"
          ]
        }
      ]
    },
    {
      "cell_type": "code",
      "metadata": {
        "colab": {
          "base_uri": "https://localhost:8080/"
        },
        "id": "tf0-e4Em99GQ",
        "outputId": "b84ca8f8-37ff-42b0-def3-8f99d793e430"
      },
      "source": [
        "########################################\n",
        "########################################\n",
        "print('\\n',\"#\"*100, '\\n', ' '*20, \" Split up Train Validation Test sets \",'\\n',\"#\"*100, '\\n')\n",
        "\n",
        "\n",
        "## 3. shuffle 创建 train test validation\n",
        "x_train, x_val, y_train, y_val = train_test_split(cleaned_data, label, test_size=0.20, random_state=42)\n",
        "x_val,x_test,y_val,y_test = train_test_split(x_val, y_val, test_size=0.50, random_state=42)\n",
        "\n",
        "if type(x_train).__module__ != \"numpy\":\n",
        "  x_train, x_val, y_train, y_val = x_train.to_numpy(), x_val.to_numpy(), y_train.to_numpy(), y_val.to_numpy()\n",
        "  \n",
        "#split out white testors\n",
        "x_test_white_ind = np.array(x_test['race'] == 1.0)\n",
        "x_test_white = x_test[x_test_white_ind]\n",
        "y_test_white = y_test[x_test_white_ind]\n",
        "\n",
        "#black testors\n",
        "x_test_black_ind = np.array(x_test['race'] == 0.0)\n",
        "x_test_black = x_test[x_test_black_ind]\n",
        "y_test_black = y_test[x_test_black_ind]\n",
        "\n",
        "if type(x_test).__module__ != \"numpy\":\n",
        "  x_test, y_test, x_test_white, y_test_white, x_test_black, y_test_black = x_test.to_numpy(), y_test.to_numpy(), x_test_white.to_numpy(), y_test_white.to_numpy(), x_test_black.to_numpy(), y_test_black.to_numpy()\n",
        "\n",
        "print(\"X_train size: \", x_train.shape, \", y_train size: \", y_train.shape, '\\n',\n",
        "      \"X_validation size: \", x_val.shape, \", y_validation size: \", y_val.shape, '\\n',\n",
        "      \"X_test sizes for African Americans and Caucasians respectively: \", x_test_white.shape,x_test_black.shape)\n",
        "\n",
        "\n",
        "########################################\n",
        "########################################\n",
        "print('\\n',\"#\"*100, '\\n', ' '*20, \" Training the Original Model without Prejudice Control \",'\\n',\"#\"*100, '\\n')\n",
        "\n",
        "## 4. 创建 base 模型\n",
        "def model_1():\n",
        "    feature_input = Input(raw_data.shape[1],)\n",
        "    y = Dense(2,\"softmax\")(feature_input)\n",
        "    \n",
        "    model = Model(feature_input,y )\n",
        "    \n",
        "    return model\n",
        "\n",
        "\n",
        "adam = tf.keras.optimizers.Adam(0.001)\n",
        "loss = keras.losses.BinaryCrossentropy(from_logits=False)\n",
        "metric = tf.keras.metrics.BinaryAccuracy()\n",
        "\n",
        "model_1_1 = model_1()\n",
        "\n",
        "model_1_1.compile(optimizer=adam,\n",
        "               loss=loss,\n",
        "               metrics=metric \n",
        "               )\n",
        "\n",
        "model_1_1.fit(x_train,tf.one_hot(y_train,2),epochs=7,batch_size = 128,validation_data=(x_val,tf.one_hot(y_val,2)))\n",
        "\n",
        "model_1_1.evaluate(x_test,tf.one_hot(y_test,2))"
      ],
      "execution_count": null,
      "outputs": [
        {
          "output_type": "stream",
          "name": "stdout",
          "text": [
            "\n",
            " #################################################################################################### \n",
            "                       Split up Train Validation Test sets  \n",
            " #################################################################################################### \n",
            "\n",
            "X_train size:  (4920, 419) , y_train size:  (4920,) \n",
            " X_validation size:  (615, 419) , y_validation size:  (615,) \n",
            " X_test sizes for African Americans and Caucasians respectively:  (241, 419) (374, 419)\n",
            "\n",
            " #################################################################################################### \n",
            "                       Training the Original Model without Prejudice Control  \n",
            " #################################################################################################### \n",
            "\n",
            "Epoch 1/7\n",
            "39/39 [==============================] - 1s 7ms/step - loss: 0.6951 - binary_accuracy: 0.5043 - val_loss: 0.6748 - val_binary_accuracy: 0.6797\n",
            "Epoch 2/7\n",
            "39/39 [==============================] - 0s 3ms/step - loss: 0.6531 - binary_accuracy: 0.7535 - val_loss: 0.6385 - val_binary_accuracy: 0.7724\n",
            "Epoch 3/7\n",
            "39/39 [==============================] - 0s 3ms/step - loss: 0.6165 - binary_accuracy: 0.8226 - val_loss: 0.6063 - val_binary_accuracy: 0.8081\n",
            "Epoch 4/7\n",
            "39/39 [==============================] - 0s 3ms/step - loss: 0.5841 - binary_accuracy: 0.8433 - val_loss: 0.5775 - val_binary_accuracy: 0.8358\n",
            "Epoch 5/7\n",
            "39/39 [==============================] - 0s 3ms/step - loss: 0.5553 - binary_accuracy: 0.8663 - val_loss: 0.5516 - val_binary_accuracy: 0.8537\n",
            "Epoch 6/7\n",
            "39/39 [==============================] - 0s 3ms/step - loss: 0.5294 - binary_accuracy: 0.8789 - val_loss: 0.5282 - val_binary_accuracy: 0.8667\n",
            "Epoch 7/7\n",
            "39/39 [==============================] - 0s 3ms/step - loss: 0.5060 - binary_accuracy: 0.8862 - val_loss: 0.5073 - val_binary_accuracy: 0.8715\n",
            "20/20 [==============================] - 0s 1ms/step - loss: 0.4981 - binary_accuracy: 0.8797\n"
          ]
        },
        {
          "output_type": "execute_result",
          "data": {
            "text/plain": [
              "[0.4981095492839813, 0.8796747922897339]"
            ]
          },
          "metadata": {},
          "execution_count": 2
        }
      ]
    },
    {
      "cell_type": "markdown",
      "metadata": {
        "id": "71S3v6JrwUog"
      },
      "source": [
        "## Verification for Prejudice: FPR & FNR - Original Model"
      ]
    },
    {
      "cell_type": "code",
      "metadata": {
        "colab": {
          "base_uri": "https://localhost:8080/"
        },
        "id": "m_TTJyXPweEX",
        "outputId": "de0bd98f-936f-472f-8f3d-8e67ce202fb3"
      },
      "source": [
        "def evaluation(model, test_labels, x_test):\n",
        "  exist = int(np.unique(x_test[:,-1]))== 0\n",
        "  if exist:\n",
        "    race = \"African-Americans\"\n",
        "  else:\n",
        "    race = \"Caucasians\"\n",
        "\n",
        "  y_true = test_labels\n",
        "  y_pred = model.predict(x_test)\n",
        "  y_pred = np.argmax(y_pred,axis = 1)\n",
        "  CM = confusion_matrix(y_true, y_pred)/len(test_labels)\n",
        "\n",
        "  print('For', race, ', False positive rate is: ', CM[0][1], ',False negative rate is: ', CM[1][0])\n",
        "\n",
        "#black accuracy\n",
        "evaluation(model_1_1,y_test_black,x_test_black)\n",
        "\n",
        "#white accuracy\n",
        "evaluation(model_1_1,y_test_white,x_test_white)\n",
        "\n",
        "def dfr(model, test_labels_0, x_test_0, test_labels_1, x_test_1, df):\n",
        "\n",
        "  y_pred_0 = model.predict(x_test_0)\n",
        "  y_pred_0 = np.argmax(y_pred_0,axis = 1)\n",
        "  y_pred_1 = model.predict(x_test_1)\n",
        "  y_pred_1 = np.argmax(y_pred_1,axis = 1)\n",
        "  CM_0 = confusion_matrix(test_labels_0, y_pred_0)/len(test_labels_0)\n",
        "  CM_1 = confusion_matrix(test_labels_1, y_pred_1)/len(test_labels_1)\n",
        "\n",
        "  #print('Disparate Mistreatment of False positive rate is: ', CM_0[0][1]-CM_1[0][1], '\\nDisparate Mistreatment of False negative rate is: ', CM_0[1][0]-CM_1[1][0])\n",
        "  if df == \"dfpr\":\n",
        "    return CM_0[0][1]-CM_1[0][1]\n",
        "  elif df == \"dfnr\":\n",
        "    return CM_0[1][0]-CM_1[1][0]\n",
        "  else:\n",
        "    return None\n",
        "\n",
        "dfpr = dfr(model_1_1,y_test_black,x_test_black,y_test_white,x_test_white, df=  \"dfpr\")\n",
        "dfnr = dfr(model_1_1,y_test_black,x_test_black,y_test_white,x_test_white, df = \"dfnr\")\n",
        "print(dfpr, dfnr)"
      ],
      "execution_count": null,
      "outputs": [
        {
          "output_type": "stream",
          "name": "stdout",
          "text": [
            "For African-Americans , False positive rate is:  0.053475935828877004 ,False negative rate is:  0.058823529411764705\n",
            "For Caucasians , False positive rate is:  0.029045643153526972 ,False negative rate is:  0.1037344398340249\n",
            "0.024430292675350032 -0.0449109104222602\n"
          ]
        }
      ]
    },
    {
      "cell_type": "markdown",
      "source": [
        "#Baseline model"
      ],
      "metadata": {
        "id": "calvbzIr55mi"
      }
    },
    {
      "cell_type": "code",
      "metadata": {
        "id": "Ps8wNkaM55pB"
      },
      "source": [
        "def model_1():\n",
        "    feature_input = Input(cleaned_data.shape[1],)\n",
        "    y = Dense(2,\"softmax\")(feature_input)\n",
        "    \n",
        "    model = Model(feature_input,y )\n",
        "    \n",
        "    return model"
      ],
      "execution_count": null,
      "outputs": []
    },
    {
      "cell_type": "markdown",
      "source": [
        "#Custom Loss for Baseline model"
      ],
      "metadata": {
        "id": "Ak23sgZrw5MJ"
      }
    },
    {
      "cell_type": "code",
      "source": [
        "#define universal penalty factor c\n",
        "\n",
        "def new_training_groups(M, x_train, y_train):\n",
        "    '''\n",
        "    X     n*d\n",
        "    M(X)    n*2\n",
        "    y       n,\n",
        "    delta   c,\n",
        "    dfr   \"dfpr\",\"dfnr\"\n",
        "    \n",
        "    '''\n",
        "    #split training sets according to sensitive variable\n",
        "    x_train_0 = x_train[np.array(x_train[:,-1] == 0.0)]\n",
        "    y_train_0 = (y_train[np.array(x_train[:,-1] == 0.0)])\n",
        "    x_train_1 = x_train[np.array(x_train[:,-1] == 1.0)]\n",
        "    y_train_1 = (y_train[np.array(x_train[:,-1] == 1.0)])\n",
        "    \n",
        "    #get the ones with wrong prediction in discriminated group\n",
        "    dp = dfr(M,y_train_0,x_train_0,y_train_1,x_train_1, df = \"dfpr\")\n",
        "    dn = dfr(M,y_train_0,x_train_0,y_train_1,x_train_1, df = \"dfnr\")\n",
        " \n",
        "    if dp > 0 or dn< 0: d = 0\n",
        "    else: d = 1\n",
        "\n",
        "    if d == 0:\n",
        "      #take penalized trainers\n",
        "      y0_pred = tf.argmax(M.predict(x_train_0),axis = 1)\n",
        "      y0_train = tf.constant(y_train_0)\n",
        "      y0_diff = (y0_train-y0_pred).numpy()\n",
        "      x_train_penalized = x_train_0[np.array(y0_diff != 0.0)]\n",
        "      y_train_penalized = y_train_0[np.array(y0_diff != 0.0)]\n",
        "      # safe trainers\n",
        "      x_train_safe = x_train_0[np.array(y0_diff == 0.0)]\n",
        "      y_train_safe = y_train_0[np.array(y0_diff == 0.0)]\n",
        "      #make new\n",
        "      x_train_safe = tf.concat((x_train_safe,x_train_1),0)\n",
        "      y_train_safe = tf.concat((y_train_safe,y_train_1),0)\n",
        "    \n",
        "    else:\n",
        "      #reverse the steps above for train set 1\n",
        "      y1_pred = tf.argmax(M.predict(x_train_1),axis = 1)\n",
        "      y1_train = tf.constant(y_train_1)\n",
        "      y1_diff = (y1_train-y1_pred).numpy()\n",
        "      x_train_penalized = x_train_1[np.array(y1_diff != 0.0)]\n",
        "      y_train_penalized = y_train_1[np.array(y1_diff != 0.0)]\n",
        "      x_train_penalized = tf.convert_to_tensor(x_train_penalized, dtype=tf.float32)\n",
        "      y_train_penalized = tf.convert_to_tensor(y_train_penalized, dtype=tf.int64)\n",
        "      # safe trainers\n",
        "      x_train_safe = x_train_1[np.array(y1_diff == 0.0)]\n",
        "      y_train_safe = y_train_1[np.array(y1_diff == 0.0)]\n",
        "      #make new\n",
        "      x_train_safe = tf.concat((x_train_safe,x_train_0),0)\n",
        "      y_train_safe = tf.concat((y_train_safe,y_train_0),0)\n",
        "\n",
        "    return x_train_safe , y_train_safe , x_train_penalized , y_train_penalized, dp, dn\n",
        "\n",
        "      # #calculate two losses\n",
        "      # \n",
        "\n",
        "      # L_p = np.sum(penalized_loss)\n",
        "      # L_s = np.sum(safe_loss)\n",
        "      \n",
        "      # loss =  L_p*c + L_s\n",
        "\n",
        "      # return loss"
      ],
      "metadata": {
        "id": "viQNrJppwQlO"
      },
      "execution_count": null,
      "outputs": []
    },
    {
      "cell_type": "markdown",
      "source": [
        "##Constraining on only Dfpr or Dfnr"
      ],
      "metadata": {
        "id": "UEp6eKtXicqs"
      }
    },
    {
      "cell_type": "code",
      "source": [
        "## initialization \n",
        "model =  model_1()\n",
        "adam = tf.keras.optimizers.Adam(0.001)\n",
        "loss = keras.losses.BinaryCrossentropy(from_logits=False)\n",
        "metric = tf.keras.metrics.BinaryAccuracy()\n",
        "\n",
        "model.compile(optimizer=adam,loss=loss,metrics=metric)\n",
        "model.fit(x_train,tf.one_hot(y_train,2),epochs=5,batch_size = 128,validation_data=(x_val,tf.one_hot(y_val,2)))\n",
        "\n",
        "#initialized C and delta\n",
        "C = 1\n",
        "delta = 0.2\n",
        "\n",
        "# new training groups\n",
        "x_ts , y_ts, x_tp , y_tp , dp, dn= new_training_groups(model, x_train, y_train)\n",
        "model_in_loop = model_1()\n",
        "\n",
        "def penalized_loss(y_true,y_pred):\n",
        "  return tf.keras.losses.binary_crossentropy( tf.one_hot(y_tp,2), model_in_loop(x_tp))\n",
        "\n",
        "def safe_loss(y_true,y_pred):  \n",
        "  return tf.keras.losses.binary_crossentropy( tf.one_hot(y_ts,2), model_in_loop(x_ts))\n",
        "\n",
        "#start while loop\n",
        "while tf.abs(dp) > 0.01: #或者 dn（控制Dfnr）\n",
        "  #model_in_loop = model_1()\n",
        "\n",
        "  C = C + delta # 增大 unfair那波人的权重 C\n",
        "\n",
        "  model_in_loop.compile(optimizer=adam,loss=[penalized_loss, safe_loss],loss_weights=[C,1],metrics=metric )\n",
        "\n",
        "  model_in_loop.fit(x_train, tf.one_hot(y_train,2), epochs=10, validation_data=(x_val,tf.one_hot(y_val,2)))\n",
        "\n",
        "  x_ts , y_ts, x_tp , y_tp , dp, dn= new_training_groups(model_in_loop, x_train, y_train)      \n",
        "      \n",
        "        "
      ],
      "metadata": {
        "colab": {
          "base_uri": "https://localhost:8080/"
        },
        "id": "Q2h6tZQuilYN",
        "outputId": "6fc46758-d0fe-47dc-ecbb-02ede657f112"
      },
      "execution_count": null,
      "outputs": [
        {
          "output_type": "stream",
          "name": "stdout",
          "text": [
            "Epoch 1/5\n",
            "39/39 [==============================] - 1s 5ms/step - loss: 0.6674 - binary_accuracy: 0.6967 - val_loss: 0.6518 - val_binary_accuracy: 0.7415\n",
            "Epoch 2/5\n",
            "39/39 [==============================] - 0s 3ms/step - loss: 0.6289 - binary_accuracy: 0.7900 - val_loss: 0.6179 - val_binary_accuracy: 0.8033\n",
            "Epoch 3/5\n",
            "39/39 [==============================] - 0s 2ms/step - loss: 0.5949 - binary_accuracy: 0.8268 - val_loss: 0.5881 - val_binary_accuracy: 0.8390\n",
            "Epoch 4/5\n",
            "39/39 [==============================] - 0s 3ms/step - loss: 0.5647 - binary_accuracy: 0.8539 - val_loss: 0.5611 - val_binary_accuracy: 0.8520\n",
            "Epoch 5/5\n",
            "39/39 [==============================] - 0s 3ms/step - loss: 0.5376 - binary_accuracy: 0.8677 - val_loss: 0.5369 - val_binary_accuracy: 0.8683\n",
            "Epoch 1/10\n",
            "154/154 [==============================] - 1s 3ms/step - loss: 0.6272 - binary_accuracy: 0.4936 - val_loss: 0.5250 - val_binary_accuracy: 0.4000\n",
            "Epoch 2/10\n",
            "154/154 [==============================] - 0s 2ms/step - loss: 0.4746 - binary_accuracy: 0.3976 - val_loss: 0.4330 - val_binary_accuracy: 0.3821\n",
            "Epoch 3/10\n",
            "154/154 [==============================] - 0s 2ms/step - loss: 0.4036 - binary_accuracy: 0.3823 - val_loss: 0.3776 - val_binary_accuracy: 0.3724\n",
            "Epoch 4/10\n",
            "154/154 [==============================] - 0s 2ms/step - loss: 0.3574 - binary_accuracy: 0.3748 - val_loss: 0.3390 - val_binary_accuracy: 0.3691\n",
            "Epoch 5/10\n",
            "154/154 [==============================] - 0s 2ms/step - loss: 0.3240 - binary_accuracy: 0.3644 - val_loss: 0.3100 - val_binary_accuracy: 0.3659\n",
            "Epoch 6/10\n",
            "154/154 [==============================] - 0s 2ms/step - loss: 0.2983 - binary_accuracy: 0.3545 - val_loss: 0.2873 - val_binary_accuracy: 0.3545\n",
            "Epoch 7/10\n",
            "154/154 [==============================] - 0s 2ms/step - loss: 0.2778 - binary_accuracy: 0.3482 - val_loss: 0.2688 - val_binary_accuracy: 0.3496\n",
            "Epoch 8/10\n",
            "154/154 [==============================] - 0s 2ms/step - loss: 0.2609 - binary_accuracy: 0.3409 - val_loss: 0.2534 - val_binary_accuracy: 0.3480\n",
            "Epoch 9/10\n",
            "154/154 [==============================] - 0s 2ms/step - loss: 0.2467 - binary_accuracy: 0.3372 - val_loss: 0.2402 - val_binary_accuracy: 0.3447\n",
            "Epoch 10/10\n",
            "154/154 [==============================] - 0s 2ms/step - loss: 0.2345 - binary_accuracy: 0.3307 - val_loss: 0.2289 - val_binary_accuracy: 0.3431\n",
            "Epoch 1/10\n",
            "154/154 [==============================] - 1s 5ms/step - loss: 2.2437 - binary_accuracy: 0.4304 - val_loss: 1.3757 - val_binary_accuracy: 0.5724\n",
            "Epoch 2/10\n",
            "154/154 [==============================] - 1s 4ms/step - loss: 1.0648 - binary_accuracy: 0.6368 - val_loss: 0.8438 - val_binary_accuracy: 0.6878\n",
            "Epoch 3/10\n",
            "154/154 [==============================] - 1s 4ms/step - loss: 0.7202 - binary_accuracy: 0.7392 - val_loss: 0.6193 - val_binary_accuracy: 0.7772\n",
            "Epoch 4/10\n",
            "154/154 [==============================] - 1s 4ms/step - loss: 0.5513 - binary_accuracy: 0.7994 - val_loss: 0.4925 - val_binary_accuracy: 0.8130\n",
            "Epoch 5/10\n",
            "154/154 [==============================] - 1s 4ms/step - loss: 0.4491 - binary_accuracy: 0.8362 - val_loss: 0.4102 - val_binary_accuracy: 0.8374\n",
            "Epoch 6/10\n",
            "154/154 [==============================] - 1s 4ms/step - loss: 0.3797 - binary_accuracy: 0.8608 - val_loss: 0.3517 - val_binary_accuracy: 0.8488\n",
            "Epoch 7/10\n",
            "154/154 [==============================] - 1s 4ms/step - loss: 0.3289 - binary_accuracy: 0.8740 - val_loss: 0.3076 - val_binary_accuracy: 0.8634\n",
            "Epoch 8/10\n",
            "154/154 [==============================] - 1s 4ms/step - loss: 0.2897 - binary_accuracy: 0.8821 - val_loss: 0.2729 - val_binary_accuracy: 0.8602\n",
            "Epoch 9/10\n",
            "154/154 [==============================] - 1s 4ms/step - loss: 0.2584 - binary_accuracy: 0.8909 - val_loss: 0.2446 - val_binary_accuracy: 0.8650\n",
            "Epoch 10/10\n",
            "154/154 [==============================] - 1s 4ms/step - loss: 0.2325 - binary_accuracy: 0.8945 - val_loss: 0.2210 - val_binary_accuracy: 0.8764\n",
            "Epoch 1/10\n",
            "154/154 [==============================] - 1s 3ms/step - loss: 1.5076 - binary_accuracy: 0.9028 - val_loss: 1.2499 - val_binary_accuracy: 0.8894\n",
            "Epoch 2/10\n",
            "154/154 [==============================] - 0s 2ms/step - loss: 1.1098 - binary_accuracy: 0.9098 - val_loss: 0.9946 - val_binary_accuracy: 0.8748\n",
            "Epoch 3/10\n",
            "154/154 [==============================] - 0s 2ms/step - loss: 0.9152 - binary_accuracy: 0.9065 - val_loss: 0.8458 - val_binary_accuracy: 0.8732\n",
            "Epoch 4/10\n",
            "154/154 [==============================] - 0s 2ms/step - loss: 0.7935 - binary_accuracy: 0.9045 - val_loss: 0.7461 - val_binary_accuracy: 0.8715\n",
            "Epoch 5/10\n",
            "154/154 [==============================] - 0s 2ms/step - loss: 0.7084 - binary_accuracy: 0.8992 - val_loss: 0.6736 - val_binary_accuracy: 0.8699\n",
            "Epoch 6/10\n",
            "154/154 [==============================] - 0s 2ms/step - loss: 0.6448 - binary_accuracy: 0.8974 - val_loss: 0.6177 - val_binary_accuracy: 0.8683\n",
            "Epoch 7/10\n",
            "154/154 [==============================] - 0s 2ms/step - loss: 0.5947 - binary_accuracy: 0.8957 - val_loss: 0.5728 - val_binary_accuracy: 0.8634\n",
            "Epoch 8/10\n",
            "154/154 [==============================] - 0s 2ms/step - loss: 0.5538 - binary_accuracy: 0.8917 - val_loss: 0.5355 - val_binary_accuracy: 0.8553\n",
            "Epoch 9/10\n",
            "154/154 [==============================] - 0s 2ms/step - loss: 0.5194 - binary_accuracy: 0.8888 - val_loss: 0.5038 - val_binary_accuracy: 0.8504\n",
            "Epoch 10/10\n",
            "154/154 [==============================] - 0s 2ms/step - loss: 0.4898 - binary_accuracy: 0.8850 - val_loss: 0.4763 - val_binary_accuracy: 0.8439\n",
            "Epoch 1/10\n",
            "154/154 [==============================] - 1s 3ms/step - loss: 2.0038 - binary_accuracy: 0.8927 - val_loss: 1.4291 - val_binary_accuracy: 0.8943\n",
            "Epoch 2/10\n",
            "154/154 [==============================] - 0s 2ms/step - loss: 1.2163 - binary_accuracy: 0.9140 - val_loss: 1.0495 - val_binary_accuracy: 0.9041\n",
            "Epoch 3/10\n",
            "154/154 [==============================] - 0s 2ms/step - loss: 0.9393 - binary_accuracy: 0.9161 - val_loss: 0.8437 - val_binary_accuracy: 0.8992\n",
            "Epoch 4/10\n",
            "154/154 [==============================] - 0s 2ms/step - loss: 0.7722 - binary_accuracy: 0.9157 - val_loss: 0.7077 - val_binary_accuracy: 0.9008\n",
            "Epoch 5/10\n",
            "154/154 [==============================] - 0s 2ms/step - loss: 0.6566 - binary_accuracy: 0.9146 - val_loss: 0.6095 - val_binary_accuracy: 0.9008\n",
            "Epoch 6/10\n",
            "154/154 [==============================] - 0s 2ms/step - loss: 0.5708 - binary_accuracy: 0.9102 - val_loss: 0.5347 - val_binary_accuracy: 0.9008\n",
            "Epoch 7/10\n",
            "154/154 [==============================] - 0s 2ms/step - loss: 0.5044 - binary_accuracy: 0.9045 - val_loss: 0.4759 - val_binary_accuracy: 0.9008\n",
            "Epoch 8/10\n",
            "154/154 [==============================] - 0s 3ms/step - loss: 0.4515 - binary_accuracy: 0.9006 - val_loss: 0.4285 - val_binary_accuracy: 0.8927\n",
            "Epoch 9/10\n",
            "154/154 [==============================] - 0s 2ms/step - loss: 0.4085 - binary_accuracy: 0.8963 - val_loss: 0.3895 - val_binary_accuracy: 0.8813\n",
            "Epoch 10/10\n",
            "154/154 [==============================] - 0s 2ms/step - loss: 0.3729 - binary_accuracy: 0.8927 - val_loss: 0.3570 - val_binary_accuracy: 0.8797\n",
            "Epoch 1/10\n",
            "154/154 [==============================] - 1s 3ms/step - loss: 2.1601 - binary_accuracy: 0.8974 - val_loss: 1.5354 - val_binary_accuracy: 0.8683\n",
            "Epoch 2/10\n",
            "154/154 [==============================] - 0s 2ms/step - loss: 1.2542 - binary_accuracy: 0.8992 - val_loss: 1.0381 - val_binary_accuracy: 0.8585\n",
            "Epoch 3/10\n",
            "154/154 [==============================] - 0s 2ms/step - loss: 0.9048 - binary_accuracy: 0.8902 - val_loss: 0.7932 - val_binary_accuracy: 0.8520\n",
            "Epoch 4/10\n",
            "154/154 [==============================] - 0s 2ms/step - loss: 0.7151 - binary_accuracy: 0.8843 - val_loss: 0.6468 - val_binary_accuracy: 0.8455\n",
            "Epoch 5/10\n",
            "154/154 [==============================] - 0s 2ms/step - loss: 0.5957 - binary_accuracy: 0.8799 - val_loss: 0.5497 - val_binary_accuracy: 0.8423\n",
            "Epoch 6/10\n",
            "154/154 [==============================] - 0s 2ms/step - loss: 0.5136 - binary_accuracy: 0.8754 - val_loss: 0.4804 - val_binary_accuracy: 0.8358\n",
            "Epoch 7/10\n",
            "154/154 [==============================] - 0s 2ms/step - loss: 0.4535 - binary_accuracy: 0.8717 - val_loss: 0.4285 - val_binary_accuracy: 0.8374\n",
            "Epoch 8/10\n",
            "154/154 [==============================] - 0s 2ms/step - loss: 0.4077 - binary_accuracy: 0.8657 - val_loss: 0.3880 - val_binary_accuracy: 0.8325\n",
            "Epoch 9/10\n",
            "154/154 [==============================] - 0s 2ms/step - loss: 0.3713 - binary_accuracy: 0.8620 - val_loss: 0.3555 - val_binary_accuracy: 0.8309\n",
            "Epoch 10/10\n",
            "154/154 [==============================] - 0s 2ms/step - loss: 0.3418 - binary_accuracy: 0.8589 - val_loss: 0.3287 - val_binary_accuracy: 0.8276\n"
          ]
        }
      ]
    },
    {
      "cell_type": "code",
      "source": [
        "dp, dn"
      ],
      "metadata": {
        "colab": {
          "base_uri": "https://localhost:8080/"
        },
        "id": "FOeaQ2GQzQJX",
        "outputId": "37b56259-84cc-4e65-d068-334f16dca09b"
      },
      "execution_count": null,
      "outputs": [
        {
          "output_type": "execute_result",
          "data": {
            "text/plain": [
              "(0.00023296297092261116, 0.017866798478433726)"
            ]
          },
          "metadata": {},
          "execution_count": 19
        }
      ]
    },
    {
      "cell_type": "code",
      "source": [
        "print(dfr(model_in_loop,y_test_black,x_test_black,y_test_white,x_test_white, df = \"dfpr\"))"
      ],
      "metadata": {
        "colab": {
          "base_uri": "https://localhost:8080/"
        },
        "id": "xnYFWog_zTVR",
        "outputId": "de26a8f0-5527-4543-b14b-c08ae7fccc61"
      },
      "execution_count": null,
      "outputs": [
        {
          "output_type": "stream",
          "name": "stdout",
          "text": [
            "0.009219606363858254\n"
          ]
        }
      ]
    },
    {
      "cell_type": "code",
      "source": [
        "evaluation(model_in_loop,y_test_black,x_test_black)\n",
        "evaluation(model_in_loop,y_test_white,x_test_white)"
      ],
      "metadata": {
        "colab": {
          "base_uri": "https://localhost:8080/"
        },
        "id": "bGs0pndcz8yY",
        "outputId": "c54b498c-0d59-4c70-c5ee-06c0c3790be8"
      },
      "execution_count": null,
      "outputs": [
        {
          "output_type": "stream",
          "name": "stdout",
          "text": [
            "For African-Americans , False positive rate is:  0.013368983957219251 ,False negative rate is:  0.14171122994652408\n",
            "For Caucasians , False positive rate is:  0.004149377593360996 ,False negative rate is:  0.11203319502074689\n"
          ]
        }
      ]
    }
  ]
}